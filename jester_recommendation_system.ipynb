{
 "cells": [
  {
   "cell_type": "markdown",
   "metadata": {},
   "source": [
    "# The Jester Dataset"
   ]
  },
  {
   "cell_type": "markdown",
   "metadata": {},
   "source": [
    "# Recommender Systems\n",
    "* Youtube\n",
    "    * Clustering \n",
    "        * Recommends videos in your preferred languages\n",
    "    * Interview on the Algorithm [Here](https://www.youtube.com/watch?v=h2SscdSVzE8)\n",
    "* Shopping\n",
    "* Amazon\n",
    "* Netflix\n",
    "* Spotify\n",
    "    * Interview with DS at Spotify [Here](https://www.youtube.com/watch?v=_TWgsvF4hBQ)\n",
    "* Ads"
   ]
  },
  {
   "cell_type": "markdown",
   "metadata": {},
   "source": [
    "# Questions\n",
    "* are there specific algorithms? what is happening under the hood?\n",
    "* What does a train/test split look like?\n",
    "    * predict ratings\n",
    "    * train on some chunk of rated data\n",
    "    * test on another chunk of rated data"
   ]
  },
  {
   "cell_type": "markdown",
   "metadata": {},
   "source": [
    "![](https://vignette.wikia.nocookie.net/helmet-heroes/images/9/9b/Jester_Hat.png/revision/latest/scale-to-width-down/340?cb=20131023213944)"
   ]
  },
  {
   "cell_type": "markdown",
   "metadata": {},
   "source": [
    "Today we will be building a recommendation system using User ratings of jokes.\n",
    "\n",
    "By the end of this notebook, we will know how to \n",
    "- Format our data for user:user recommendation\n",
    "- Find the cosine similarity between two vectors\n",
    "- Use K Nearest Neighbor to indentify vector similarity\n",
    "- Filter a dataframe to identify the highest rated joke based on K most similar users."
   ]
  },
  {
   "cell_type": "code",
   "execution_count": 59,
   "metadata": {
    "ExecuteTime": {
     "end_time": "2020-03-06T18:46:29.147877Z",
     "start_time": "2020-03-06T18:46:29.144364Z"
    }
   },
   "outputs": [],
   "source": [
    "import pandas as pd\n",
    "import numpy as np\n",
    "\n",
    "from sklearn.neighbors import NearestNeighbors\n",
    "from sklearn.metrics.pairwise import cosine_similarity, cosine_distances\n",
    "\n",
    "\n",
    "import matplotlib.pyplot as plt\n",
    "import seaborn as sns\n",
    "\n",
    "import warnings\n",
    "warnings.filterwarnings(\"ignore\")"
   ]
  },
  {
   "cell_type": "markdown",
   "metadata": {},
   "source": [
    "### About user data\n",
    "Format:\n",
    "\n",
    "- Ratings are real values ranging from -10.00 to +10.00 (the value \"99\" corresponds to \"null\" = \"not rated\").\n",
    "- One row per user\n",
    "- The first column gives the number of jokes rated by that user. The next 100 columns give the ratings for jokes 01 - 100.\n",
    "- The sub-matrix including only columns {5, 7, 8, 13, 15, 16, 17, 18, 19, 20} is dense. Almost all users have rated those jokes (see discussion of \"universal queries\" [here](http://eigentaste.berkeley.edu/)).\n"
   ]
  },
  {
   "cell_type": "code",
   "execution_count": 60,
   "metadata": {
    "ExecuteTime": {
     "end_time": "2020-03-06T18:46:31.575913Z",
     "start_time": "2020-03-06T18:46:31.102103Z"
    }
   },
   "outputs": [],
   "source": [
    "df = pd.read_csv('./data/jesterfinal151cols.csv', header=None)\n",
    "df = df.fillna(99)"
   ]
  },
  {
   "cell_type": "code",
   "execution_count": 63,
   "metadata": {},
   "outputs": [],
   "source": [
    "# Rows in our table -> Individual User's ratings of all 150 jokes\n",
    "# Columns in our table -> Individual Jokes\n",
    "\n",
    "# two sets of vectors\n",
    "# user vectors\n",
    "# joke vectors"
   ]
  },
  {
   "cell_type": "code",
   "execution_count": 61,
   "metadata": {
    "ExecuteTime": {
     "end_time": "2020-03-06T18:46:32.096897Z",
     "start_time": "2020-03-06T18:46:32.075833Z"
    }
   },
   "outputs": [
    {
     "data": {
      "text/html": [
       "<div>\n",
       "<style scoped>\n",
       "    .dataframe tbody tr th:only-of-type {\n",
       "        vertical-align: middle;\n",
       "    }\n",
       "\n",
       "    .dataframe tbody tr th {\n",
       "        vertical-align: top;\n",
       "    }\n",
       "\n",
       "    .dataframe thead th {\n",
       "        text-align: right;\n",
       "    }\n",
       "</style>\n",
       "<table border=\"1\" class=\"dataframe\">\n",
       "  <thead>\n",
       "    <tr style=\"text-align: right;\">\n",
       "      <th></th>\n",
       "      <th>0</th>\n",
       "      <th>1</th>\n",
       "      <th>2</th>\n",
       "      <th>3</th>\n",
       "      <th>4</th>\n",
       "      <th>5</th>\n",
       "      <th>6</th>\n",
       "      <th>7</th>\n",
       "      <th>8</th>\n",
       "      <th>9</th>\n",
       "      <th>...</th>\n",
       "      <th>141</th>\n",
       "      <th>142</th>\n",
       "      <th>143</th>\n",
       "      <th>144</th>\n",
       "      <th>145</th>\n",
       "      <th>146</th>\n",
       "      <th>147</th>\n",
       "      <th>148</th>\n",
       "      <th>149</th>\n",
       "      <th>150</th>\n",
       "    </tr>\n",
       "  </thead>\n",
       "  <tbody>\n",
       "    <tr>\n",
       "      <td>0</td>\n",
       "      <td>62</td>\n",
       "      <td>99</td>\n",
       "      <td>99</td>\n",
       "      <td>99</td>\n",
       "      <td>99</td>\n",
       "      <td>0.21875</td>\n",
       "      <td>99</td>\n",
       "      <td>-9.28125</td>\n",
       "      <td>-9.28125</td>\n",
       "      <td>99</td>\n",
       "      <td>...</td>\n",
       "      <td>99.0</td>\n",
       "      <td>99.0</td>\n",
       "      <td>99.0</td>\n",
       "      <td>99.0</td>\n",
       "      <td>99.0</td>\n",
       "      <td>99.0</td>\n",
       "      <td>99.0</td>\n",
       "      <td>99.0</td>\n",
       "      <td>99.0</td>\n",
       "      <td>99.0</td>\n",
       "    </tr>\n",
       "    <tr>\n",
       "      <td>1</td>\n",
       "      <td>34</td>\n",
       "      <td>99</td>\n",
       "      <td>99</td>\n",
       "      <td>99</td>\n",
       "      <td>99</td>\n",
       "      <td>-9.68750</td>\n",
       "      <td>99</td>\n",
       "      <td>9.93750</td>\n",
       "      <td>9.53125</td>\n",
       "      <td>99</td>\n",
       "      <td>...</td>\n",
       "      <td>99.0</td>\n",
       "      <td>99.0</td>\n",
       "      <td>99.0</td>\n",
       "      <td>99.0</td>\n",
       "      <td>99.0</td>\n",
       "      <td>99.0</td>\n",
       "      <td>99.0</td>\n",
       "      <td>99.0</td>\n",
       "      <td>99.0</td>\n",
       "      <td>99.0</td>\n",
       "    </tr>\n",
       "    <tr>\n",
       "      <td>2</td>\n",
       "      <td>18</td>\n",
       "      <td>99</td>\n",
       "      <td>99</td>\n",
       "      <td>99</td>\n",
       "      <td>99</td>\n",
       "      <td>-9.84375</td>\n",
       "      <td>99</td>\n",
       "      <td>-9.84375</td>\n",
       "      <td>-7.21875</td>\n",
       "      <td>99</td>\n",
       "      <td>...</td>\n",
       "      <td>99.0</td>\n",
       "      <td>99.0</td>\n",
       "      <td>99.0</td>\n",
       "      <td>99.0</td>\n",
       "      <td>99.0</td>\n",
       "      <td>99.0</td>\n",
       "      <td>99.0</td>\n",
       "      <td>99.0</td>\n",
       "      <td>99.0</td>\n",
       "      <td>99.0</td>\n",
       "    </tr>\n",
       "    <tr>\n",
       "      <td>3</td>\n",
       "      <td>82</td>\n",
       "      <td>99</td>\n",
       "      <td>99</td>\n",
       "      <td>99</td>\n",
       "      <td>99</td>\n",
       "      <td>6.90625</td>\n",
       "      <td>99</td>\n",
       "      <td>4.75000</td>\n",
       "      <td>-5.90625</td>\n",
       "      <td>99</td>\n",
       "      <td>...</td>\n",
       "      <td>99.0</td>\n",
       "      <td>99.0</td>\n",
       "      <td>99.0</td>\n",
       "      <td>99.0</td>\n",
       "      <td>99.0</td>\n",
       "      <td>99.0</td>\n",
       "      <td>99.0</td>\n",
       "      <td>99.0</td>\n",
       "      <td>99.0</td>\n",
       "      <td>99.0</td>\n",
       "    </tr>\n",
       "    <tr>\n",
       "      <td>4</td>\n",
       "      <td>27</td>\n",
       "      <td>99</td>\n",
       "      <td>99</td>\n",
       "      <td>99</td>\n",
       "      <td>99</td>\n",
       "      <td>-0.03125</td>\n",
       "      <td>99</td>\n",
       "      <td>-9.09375</td>\n",
       "      <td>-0.40625</td>\n",
       "      <td>99</td>\n",
       "      <td>...</td>\n",
       "      <td>99.0</td>\n",
       "      <td>99.0</td>\n",
       "      <td>99.0</td>\n",
       "      <td>99.0</td>\n",
       "      <td>99.0</td>\n",
       "      <td>99.0</td>\n",
       "      <td>99.0</td>\n",
       "      <td>99.0</td>\n",
       "      <td>99.0</td>\n",
       "      <td>99.0</td>\n",
       "    </tr>\n",
       "  </tbody>\n",
       "</table>\n",
       "<p>5 rows × 151 columns</p>\n",
       "</div>"
      ],
      "text/plain": [
       "   0    1    2    3    4        5    6        7        8    9    ...   141  \\\n",
       "0   62   99   99   99   99  0.21875   99 -9.28125 -9.28125   99  ...  99.0   \n",
       "1   34   99   99   99   99 -9.68750   99  9.93750  9.53125   99  ...  99.0   \n",
       "2   18   99   99   99   99 -9.84375   99 -9.84375 -7.21875   99  ...  99.0   \n",
       "3   82   99   99   99   99  6.90625   99  4.75000 -5.90625   99  ...  99.0   \n",
       "4   27   99   99   99   99 -0.03125   99 -9.09375 -0.40625   99  ...  99.0   \n",
       "\n",
       "    142   143   144   145   146   147   148   149   150  \n",
       "0  99.0  99.0  99.0  99.0  99.0  99.0  99.0  99.0  99.0  \n",
       "1  99.0  99.0  99.0  99.0  99.0  99.0  99.0  99.0  99.0  \n",
       "2  99.0  99.0  99.0  99.0  99.0  99.0  99.0  99.0  99.0  \n",
       "3  99.0  99.0  99.0  99.0  99.0  99.0  99.0  99.0  99.0  \n",
       "4  99.0  99.0  99.0  99.0  99.0  99.0  99.0  99.0  99.0  \n",
       "\n",
       "[5 rows x 151 columns]"
      ]
     },
     "execution_count": 61,
     "metadata": {},
     "output_type": "execute_result"
    }
   ],
   "source": [
    "df.head()"
   ]
  },
  {
   "cell_type": "markdown",
   "metadata": {},
   "source": [
    "### Joke data"
   ]
  },
  {
   "cell_type": "code",
   "execution_count": 62,
   "metadata": {
    "ExecuteTime": {
     "end_time": "2020-03-06T18:46:33.391893Z",
     "start_time": "2020-03-06T18:46:33.383116Z"
    }
   },
   "outputs": [
    {
     "data": {
      "text/html": [
       "<div>\n",
       "<style scoped>\n",
       "    .dataframe tbody tr th:only-of-type {\n",
       "        vertical-align: middle;\n",
       "    }\n",
       "\n",
       "    .dataframe tbody tr th {\n",
       "        vertical-align: top;\n",
       "    }\n",
       "\n",
       "    .dataframe thead th {\n",
       "        text-align: right;\n",
       "    }\n",
       "</style>\n",
       "<table border=\"1\" class=\"dataframe\">\n",
       "  <thead>\n",
       "    <tr style=\"text-align: right;\">\n",
       "      <th></th>\n",
       "      <th>0</th>\n",
       "      <th>1</th>\n",
       "    </tr>\n",
       "  </thead>\n",
       "  <tbody>\n",
       "    <tr>\n",
       "      <td>0</td>\n",
       "      <td>1:</td>\n",
       "      <td>A man visits the doctor. The doctor says, \"I h...</td>\n",
       "    </tr>\n",
       "    <tr>\n",
       "      <td>1</td>\n",
       "      <td>2:</td>\n",
       "      <td>This couple had an excellent relationship goin...</td>\n",
       "    </tr>\n",
       "    <tr>\n",
       "      <td>2</td>\n",
       "      <td>3:</td>\n",
       "      <td>Q. What's 200 feet long and has 4 teeth? A. Th...</td>\n",
       "    </tr>\n",
       "    <tr>\n",
       "      <td>3</td>\n",
       "      <td>4:</td>\n",
       "      <td>Q. What's the difference between a man and a t...</td>\n",
       "    </tr>\n",
       "    <tr>\n",
       "      <td>4</td>\n",
       "      <td>5:</td>\n",
       "      <td>Q. What's O. J. Simpson's web address? A. Slas...</td>\n",
       "    </tr>\n",
       "  </tbody>\n",
       "</table>\n",
       "</div>"
      ],
      "text/plain": [
       "    0                                                  1\n",
       "0  1:  A man visits the doctor. The doctor says, \"I h...\n",
       "1  2:  This couple had an excellent relationship goin...\n",
       "2  3:  Q. What's 200 feet long and has 4 teeth? A. Th...\n",
       "3  4:  Q. What's the difference between a man and a t...\n",
       "4  5:  Q. What's O. J. Simpson's web address? A. Slas..."
      ]
     },
     "execution_count": 62,
     "metadata": {},
     "output_type": "execute_result"
    }
   ],
   "source": [
    "jokes = pd.read_table('./data/jester_items.tsv', header = None)\n",
    "jokes.head()"
   ]
  },
  {
   "cell_type": "markdown",
   "metadata": {},
   "source": [
    "The 0 column is the join column we need to connect with the user dataframe. \n",
    "\n",
    "I could clean the column, but it would be easier to just set our index to a range  of numbers."
   ]
  },
  {
   "cell_type": "code",
   "execution_count": 64,
   "metadata": {
    "ExecuteTime": {
     "end_time": "2020-03-06T18:46:34.724368Z",
     "start_time": "2020-03-06T18:46:34.717453Z"
    }
   },
   "outputs": [],
   "source": [
    "jokes.index = [x for x in range(1,150)]\n",
    "\n",
    "jokes.drop(0, axis = 1, inplace = True)"
   ]
  },
  {
   "cell_type": "code",
   "execution_count": 65,
   "metadata": {
    "ExecuteTime": {
     "end_time": "2020-03-06T18:46:35.650125Z",
     "start_time": "2020-03-06T18:46:35.642948Z"
    }
   },
   "outputs": [
    {
     "data": {
      "text/html": [
       "<div>\n",
       "<style scoped>\n",
       "    .dataframe tbody tr th:only-of-type {\n",
       "        vertical-align: middle;\n",
       "    }\n",
       "\n",
       "    .dataframe tbody tr th {\n",
       "        vertical-align: top;\n",
       "    }\n",
       "\n",
       "    .dataframe thead th {\n",
       "        text-align: right;\n",
       "    }\n",
       "</style>\n",
       "<table border=\"1\" class=\"dataframe\">\n",
       "  <thead>\n",
       "    <tr style=\"text-align: right;\">\n",
       "      <th></th>\n",
       "      <th>1</th>\n",
       "    </tr>\n",
       "  </thead>\n",
       "  <tbody>\n",
       "    <tr>\n",
       "      <td>1</td>\n",
       "      <td>A man visits the doctor. The doctor says, \"I h...</td>\n",
       "    </tr>\n",
       "    <tr>\n",
       "      <td>2</td>\n",
       "      <td>This couple had an excellent relationship goin...</td>\n",
       "    </tr>\n",
       "    <tr>\n",
       "      <td>3</td>\n",
       "      <td>Q. What's 200 feet long and has 4 teeth? A. Th...</td>\n",
       "    </tr>\n",
       "    <tr>\n",
       "      <td>4</td>\n",
       "      <td>Q. What's the difference between a man and a t...</td>\n",
       "    </tr>\n",
       "    <tr>\n",
       "      <td>5</td>\n",
       "      <td>Q. What's O. J. Simpson's web address? A. Slas...</td>\n",
       "    </tr>\n",
       "  </tbody>\n",
       "</table>\n",
       "</div>"
      ],
      "text/plain": [
       "                                                   1\n",
       "1  A man visits the doctor. The doctor says, \"I h...\n",
       "2  This couple had an excellent relationship goin...\n",
       "3  Q. What's 200 feet long and has 4 teeth? A. Th...\n",
       "4  Q. What's the difference between a man and a t...\n",
       "5  Q. What's O. J. Simpson's web address? A. Slas..."
      ]
     },
     "execution_count": 65,
     "metadata": {},
     "output_type": "execute_result"
    }
   ],
   "source": [
    "jokes.head()"
   ]
  },
  {
   "cell_type": "markdown",
   "metadata": {
    "ExecuteTime": {
     "end_time": "2020-03-06T17:52:25.406789Z",
     "start_time": "2020-03-06T17:52:25.402698Z"
    }
   },
   "source": [
    "Nice."
   ]
  },
  {
   "cell_type": "markdown",
   "metadata": {},
   "source": [
    "### Cosine similarity"
   ]
  },
  {
   "cell_type": "markdown",
   "metadata": {},
   "source": [
    "Cosine similarty = 1 - cosinedistance\n",
    "\n",
    "#### What does cosine similarity measure?\n",
    "- The angle between two vectors\n",
    "    - if cosine(v1, v2) == 0 -> perpendicular\n",
    "    - if cosine(v1, v2) == 1 -> same direction\n",
    "    - if cosine(v1, v2) == -1 -> opposite direction"
   ]
  },
  {
   "cell_type": "markdown",
   "metadata": {},
   "source": [
    "Let's create two vectors and find their cosine distance"
   ]
  },
  {
   "cell_type": "code",
   "execution_count": 96,
   "metadata": {
    "ExecuteTime": {
     "end_time": "2020-03-06T18:46:37.914150Z",
     "start_time": "2020-03-06T18:46:37.908597Z"
    }
   },
   "outputs": [
    {
     "data": {
      "text/plain": [
       "array([[0.00345424]])"
      ]
     },
     "execution_count": 96,
     "metadata": {},
     "output_type": "execute_result"
    }
   ],
   "source": [
    "v1 = np.array([1, 2])\n",
    "v2 = np.array([1, 2.5])\n",
    "# (-1, -2) # v1, v2 -> similarity is -1\n",
    "# (8, 0.5)\n",
    "# (3, 1)\n",
    "# v2 = np.array([-3, -6])\n",
    "\n",
    "distance = cosine_distances(v1.reshape(1, -1), v2.reshape(1, -1))\n",
    "distance"
   ]
  },
  {
   "cell_type": "markdown",
   "metadata": {},
   "source": [
    "### Let's visualize our vectors in space using quiver plots"
   ]
  },
  {
   "cell_type": "code",
   "execution_count": 97,
   "metadata": {},
   "outputs": [
    {
     "data": {
      "text/plain": [
       "array([[1. , 2. ],\n",
       "       [1. , 2.5]])"
      ]
     },
     "execution_count": 97,
     "metadata": {},
     "output_type": "execute_result"
    }
   ],
   "source": [
    "V=np.array([v1, v2])\n",
    "V"
   ]
  },
  {
   "cell_type": "code",
   "execution_count": 98,
   "metadata": {},
   "outputs": [],
   "source": [
    "origin = [0], [0]"
   ]
  },
  {
   "cell_type": "code",
   "execution_count": 101,
   "metadata": {},
   "outputs": [
    {
     "data": {
      "image/png": "[encoded data removed]",
      "text/plain": [
       "<Figure size 360x360 with 1 Axes>"
      ]
     },
     "metadata": {
      "needs_background": "light"
     },
     "output_type": "display_data"
    }
   ],
   "source": [
    "from matplotlib.lines import Line2D\n",
    "\n",
    "custom_lines = [Line2D([0], [0], color='r', lw=2),\n",
    "                Line2D([0], [0], color='b', lw=2)]\n",
    "\n",
    "plt.figure(figsize=(5, 5))\n",
    "plt.grid(linestyle='dashed', zorder=0)\n",
    "plt.scatter(*origin, s=100, c='k', zorder=2)\n",
    "plt.quiver(*origin, V[:,0], V[:,1], color=['r','b'], scale=8, zorder=1)\n",
    "plt.legend(custom_lines, [f'v1 {v1}', f'v2 {v2}'])\n",
    "plt.title(\"Similar Vectors\")\n",
    "plt.show()"
   ]
  },
  {
   "cell_type": "code",
   "execution_count": 102,
   "metadata": {
    "ExecuteTime": {
     "end_time": "2020-03-06T18:46:38.587371Z",
     "start_time": "2020-03-06T18:46:38.582387Z"
    }
   },
   "outputs": [
    {
     "data": {
      "text/plain": [
       "array([[0.99654576]])"
      ]
     },
     "execution_count": 102,
     "metadata": {},
     "output_type": "execute_result"
    }
   ],
   "source": [
    "similarity = 1 - cosine_distances(v1.reshape(1, -1), v2.reshape(1, -1))\n",
    "similarity"
   ]
  },
  {
   "cell_type": "markdown",
   "metadata": {},
   "source": [
    "There is also an function for this that we can use."
   ]
  },
  {
   "cell_type": "code",
   "execution_count": 103,
   "metadata": {
    "ExecuteTime": {
     "end_time": "2020-03-06T18:46:39.831855Z",
     "start_time": "2020-03-06T18:46:39.826755Z"
    }
   },
   "outputs": [
    {
     "data": {
      "text/plain": [
       "array([[0.99654576]])"
      ]
     },
     "execution_count": 103,
     "metadata": {},
     "output_type": "execute_result"
    }
   ],
   "source": [
    "cosine_similarity(v1.reshape(1, -1), v2.reshape(1, -1))"
   ]
  },
  {
   "cell_type": "markdown",
   "metadata": {},
   "source": [
    "### How do we build a recommender system?\n",
    "- How do we recommend a joke to userA?\n",
    "    - user to user ->\n",
    "        - find users that are similar to userA\n",
    "        - recommend highly rated jokes that userA has not rated by those users to userA"
   ]
  },
  {
   "cell_type": "markdown",
   "metadata": {},
   "source": [
    "### Let's condition the data for a recommender system\n"
   ]
  },
  {
   "cell_type": "code",
   "execution_count": 105,
   "metadata": {},
   "outputs": [
    {
     "data": {
      "text/html": [
       "<div>\n",
       "<style scoped>\n",
       "    .dataframe tbody tr th:only-of-type {\n",
       "        vertical-align: middle;\n",
       "    }\n",
       "\n",
       "    .dataframe tbody tr th {\n",
       "        vertical-align: top;\n",
       "    }\n",
       "\n",
       "    .dataframe thead th {\n",
       "        text-align: right;\n",
       "    }\n",
       "</style>\n",
       "<table border=\"1\" class=\"dataframe\">\n",
       "  <thead>\n",
       "    <tr style=\"text-align: right;\">\n",
       "      <th></th>\n",
       "      <th>0</th>\n",
       "      <th>1</th>\n",
       "      <th>2</th>\n",
       "      <th>3</th>\n",
       "      <th>4</th>\n",
       "      <th>5</th>\n",
       "      <th>6</th>\n",
       "      <th>7</th>\n",
       "      <th>8</th>\n",
       "      <th>9</th>\n",
       "      <th>...</th>\n",
       "      <th>141</th>\n",
       "      <th>142</th>\n",
       "      <th>143</th>\n",
       "      <th>144</th>\n",
       "      <th>145</th>\n",
       "      <th>146</th>\n",
       "      <th>147</th>\n",
       "      <th>148</th>\n",
       "      <th>149</th>\n",
       "      <th>150</th>\n",
       "    </tr>\n",
       "  </thead>\n",
       "  <tbody>\n",
       "    <tr>\n",
       "      <td>0</td>\n",
       "      <td>62</td>\n",
       "      <td>99</td>\n",
       "      <td>99</td>\n",
       "      <td>99</td>\n",
       "      <td>99</td>\n",
       "      <td>0.21875</td>\n",
       "      <td>99</td>\n",
       "      <td>-9.28125</td>\n",
       "      <td>-9.28125</td>\n",
       "      <td>99</td>\n",
       "      <td>...</td>\n",
       "      <td>99.0</td>\n",
       "      <td>99.0</td>\n",
       "      <td>99.0</td>\n",
       "      <td>99.0</td>\n",
       "      <td>99.0</td>\n",
       "      <td>99.0</td>\n",
       "      <td>99.0</td>\n",
       "      <td>99.0</td>\n",
       "      <td>99.0</td>\n",
       "      <td>99.0</td>\n",
       "    </tr>\n",
       "    <tr>\n",
       "      <td>1</td>\n",
       "      <td>34</td>\n",
       "      <td>99</td>\n",
       "      <td>99</td>\n",
       "      <td>99</td>\n",
       "      <td>99</td>\n",
       "      <td>-9.68750</td>\n",
       "      <td>99</td>\n",
       "      <td>9.93750</td>\n",
       "      <td>9.53125</td>\n",
       "      <td>99</td>\n",
       "      <td>...</td>\n",
       "      <td>99.0</td>\n",
       "      <td>99.0</td>\n",
       "      <td>99.0</td>\n",
       "      <td>99.0</td>\n",
       "      <td>99.0</td>\n",
       "      <td>99.0</td>\n",
       "      <td>99.0</td>\n",
       "      <td>99.0</td>\n",
       "      <td>99.0</td>\n",
       "      <td>99.0</td>\n",
       "    </tr>\n",
       "  </tbody>\n",
       "</table>\n",
       "<p>2 rows × 151 columns</p>\n",
       "</div>"
      ],
      "text/plain": [
       "   0    1    2    3    4        5    6        7        8    9    ...   141  \\\n",
       "0   62   99   99   99   99  0.21875   99 -9.28125 -9.28125   99  ...  99.0   \n",
       "1   34   99   99   99   99 -9.68750   99  9.93750  9.53125   99  ...  99.0   \n",
       "\n",
       "    142   143   144   145   146   147   148   149   150  \n",
       "0  99.0  99.0  99.0  99.0  99.0  99.0  99.0  99.0  99.0  \n",
       "1  99.0  99.0  99.0  99.0  99.0  99.0  99.0  99.0  99.0  \n",
       "\n",
       "[2 rows x 151 columns]"
      ]
     },
     "metadata": {},
     "output_type": "display_data"
    },
    {
     "data": {
      "text/plain": [
       "(50692, 151)"
      ]
     },
     "execution_count": 105,
     "metadata": {},
     "output_type": "execute_result"
    }
   ],
   "source": [
    "display(df.head(2))\n",
    "df.shape"
   ]
  },
  {
   "cell_type": "code",
   "execution_count": 111,
   "metadata": {},
   "outputs": [
    {
     "data": {
      "text/plain": [
       "(62,)"
      ]
     },
     "execution_count": 111,
     "metadata": {},
     "output_type": "execute_result"
    }
   ],
   "source": [
    "np.where(df.iloc[0, :]<=10)[0].shape"
   ]
  },
  {
   "cell_type": "code",
   "execution_count": 112,
   "metadata": {
    "ExecuteTime": {
     "end_time": "2020-03-06T18:46:42.818294Z",
     "start_time": "2020-03-06T18:46:42.726447Z"
    }
   },
   "outputs": [
    {
     "name": "stdout",
     "output_type": "stream",
     "text": [
      "User 21597 is our random user\n"
     ]
    }
   ],
   "source": [
    "# build a flow for a given user then turn this into a function\n",
    "\n",
    "## User we would like to recommend a joke to\n",
    "user_index = np.random.randint(0, df.shape[0])\n",
    "print(f\"User {user_index} is our random user\")\n",
    "\n",
    "## Drop column that totals the numbers of jokes each user has rated. \n",
    "## Isolate the row for the desired user\n",
    "userA = df.drop(0, axis=1).loc[user_index, :]\n",
    "\n",
    "# let's get the other users\n",
    "others = df.drop(0, axis=1).drop(index=user_index, axis=0)"
   ]
  },
  {
   "cell_type": "code",
   "execution_count": 113,
   "metadata": {},
   "outputs": [
    {
     "data": {
      "text/plain": [
       "1      99.0\n",
       "2      99.0\n",
       "3      99.0\n",
       "4      99.0\n",
       "5      99.0\n",
       "       ... \n",
       "146    99.0\n",
       "147    99.0\n",
       "148    99.0\n",
       "149    99.0\n",
       "150    99.0\n",
       "Name: 21597, Length: 150, dtype: float64"
      ]
     },
     "execution_count": 113,
     "metadata": {},
     "output_type": "execute_result"
    }
   ],
   "source": [
    "userA"
   ]
  },
  {
   "cell_type": "code",
   "execution_count": 114,
   "metadata": {},
   "outputs": [
    {
     "data": {
      "text/html": [
       "<div>\n",
       "<style scoped>\n",
       "    .dataframe tbody tr th:only-of-type {\n",
       "        vertical-align: middle;\n",
       "    }\n",
       "\n",
       "    .dataframe tbody tr th {\n",
       "        vertical-align: top;\n",
       "    }\n",
       "\n",
       "    .dataframe thead th {\n",
       "        text-align: right;\n",
       "    }\n",
       "</style>\n",
       "<table border=\"1\" class=\"dataframe\">\n",
       "  <thead>\n",
       "    <tr style=\"text-align: right;\">\n",
       "      <th></th>\n",
       "      <th>1</th>\n",
       "      <th>2</th>\n",
       "      <th>3</th>\n",
       "      <th>4</th>\n",
       "      <th>5</th>\n",
       "      <th>6</th>\n",
       "      <th>7</th>\n",
       "      <th>8</th>\n",
       "      <th>9</th>\n",
       "      <th>10</th>\n",
       "      <th>...</th>\n",
       "      <th>141</th>\n",
       "      <th>142</th>\n",
       "      <th>143</th>\n",
       "      <th>144</th>\n",
       "      <th>145</th>\n",
       "      <th>146</th>\n",
       "      <th>147</th>\n",
       "      <th>148</th>\n",
       "      <th>149</th>\n",
       "      <th>150</th>\n",
       "    </tr>\n",
       "  </thead>\n",
       "  <tbody>\n",
       "    <tr>\n",
       "      <td>0</td>\n",
       "      <td>99</td>\n",
       "      <td>99</td>\n",
       "      <td>99</td>\n",
       "      <td>99</td>\n",
       "      <td>0.21875</td>\n",
       "      <td>99</td>\n",
       "      <td>-9.28125</td>\n",
       "      <td>-9.28125</td>\n",
       "      <td>99</td>\n",
       "      <td>99</td>\n",
       "      <td>...</td>\n",
       "      <td>99.0</td>\n",
       "      <td>99.0</td>\n",
       "      <td>99.0</td>\n",
       "      <td>99.0</td>\n",
       "      <td>99.0</td>\n",
       "      <td>99.0</td>\n",
       "      <td>99.0</td>\n",
       "      <td>99.00000</td>\n",
       "      <td>99.0</td>\n",
       "      <td>99.0000</td>\n",
       "    </tr>\n",
       "    <tr>\n",
       "      <td>1</td>\n",
       "      <td>99</td>\n",
       "      <td>99</td>\n",
       "      <td>99</td>\n",
       "      <td>99</td>\n",
       "      <td>-9.68750</td>\n",
       "      <td>99</td>\n",
       "      <td>9.93750</td>\n",
       "      <td>9.53125</td>\n",
       "      <td>99</td>\n",
       "      <td>99</td>\n",
       "      <td>...</td>\n",
       "      <td>99.0</td>\n",
       "      <td>99.0</td>\n",
       "      <td>99.0</td>\n",
       "      <td>99.0</td>\n",
       "      <td>99.0</td>\n",
       "      <td>99.0</td>\n",
       "      <td>99.0</td>\n",
       "      <td>99.00000</td>\n",
       "      <td>99.0</td>\n",
       "      <td>99.0000</td>\n",
       "    </tr>\n",
       "    <tr>\n",
       "      <td>2</td>\n",
       "      <td>99</td>\n",
       "      <td>99</td>\n",
       "      <td>99</td>\n",
       "      <td>99</td>\n",
       "      <td>-9.84375</td>\n",
       "      <td>99</td>\n",
       "      <td>-9.84375</td>\n",
       "      <td>-7.21875</td>\n",
       "      <td>99</td>\n",
       "      <td>99</td>\n",
       "      <td>...</td>\n",
       "      <td>99.0</td>\n",
       "      <td>99.0</td>\n",
       "      <td>99.0</td>\n",
       "      <td>99.0</td>\n",
       "      <td>99.0</td>\n",
       "      <td>99.0</td>\n",
       "      <td>99.0</td>\n",
       "      <td>99.00000</td>\n",
       "      <td>99.0</td>\n",
       "      <td>99.0000</td>\n",
       "    </tr>\n",
       "    <tr>\n",
       "      <td>3</td>\n",
       "      <td>99</td>\n",
       "      <td>99</td>\n",
       "      <td>99</td>\n",
       "      <td>99</td>\n",
       "      <td>6.90625</td>\n",
       "      <td>99</td>\n",
       "      <td>4.75000</td>\n",
       "      <td>-5.90625</td>\n",
       "      <td>99</td>\n",
       "      <td>99</td>\n",
       "      <td>...</td>\n",
       "      <td>99.0</td>\n",
       "      <td>99.0</td>\n",
       "      <td>99.0</td>\n",
       "      <td>99.0</td>\n",
       "      <td>99.0</td>\n",
       "      <td>99.0</td>\n",
       "      <td>99.0</td>\n",
       "      <td>99.00000</td>\n",
       "      <td>99.0</td>\n",
       "      <td>99.0000</td>\n",
       "    </tr>\n",
       "    <tr>\n",
       "      <td>4</td>\n",
       "      <td>99</td>\n",
       "      <td>99</td>\n",
       "      <td>99</td>\n",
       "      <td>99</td>\n",
       "      <td>-0.03125</td>\n",
       "      <td>99</td>\n",
       "      <td>-9.09375</td>\n",
       "      <td>-0.40625</td>\n",
       "      <td>99</td>\n",
       "      <td>99</td>\n",
       "      <td>...</td>\n",
       "      <td>99.0</td>\n",
       "      <td>99.0</td>\n",
       "      <td>99.0</td>\n",
       "      <td>99.0</td>\n",
       "      <td>99.0</td>\n",
       "      <td>99.0</td>\n",
       "      <td>99.0</td>\n",
       "      <td>99.00000</td>\n",
       "      <td>99.0</td>\n",
       "      <td>99.0000</td>\n",
       "    </tr>\n",
       "    <tr>\n",
       "      <td>...</td>\n",
       "      <td>...</td>\n",
       "      <td>...</td>\n",
       "      <td>...</td>\n",
       "      <td>...</td>\n",
       "      <td>...</td>\n",
       "      <td>...</td>\n",
       "      <td>...</td>\n",
       "      <td>...</td>\n",
       "      <td>...</td>\n",
       "      <td>...</td>\n",
       "      <td>...</td>\n",
       "      <td>...</td>\n",
       "      <td>...</td>\n",
       "      <td>...</td>\n",
       "      <td>...</td>\n",
       "      <td>...</td>\n",
       "      <td>...</td>\n",
       "      <td>...</td>\n",
       "      <td>...</td>\n",
       "      <td>...</td>\n",
       "      <td>...</td>\n",
       "    </tr>\n",
       "    <tr>\n",
       "      <td>50687</td>\n",
       "      <td>99</td>\n",
       "      <td>99</td>\n",
       "      <td>99</td>\n",
       "      <td>99</td>\n",
       "      <td>99.00000</td>\n",
       "      <td>99</td>\n",
       "      <td>-5.93750</td>\n",
       "      <td>-3.71875</td>\n",
       "      <td>99</td>\n",
       "      <td>99</td>\n",
       "      <td>...</td>\n",
       "      <td>99.0</td>\n",
       "      <td>99.0</td>\n",
       "      <td>99.0</td>\n",
       "      <td>99.0</td>\n",
       "      <td>99.0</td>\n",
       "      <td>99.0</td>\n",
       "      <td>99.0</td>\n",
       "      <td>-1.15625</td>\n",
       "      <td>99.0</td>\n",
       "      <td>-1.1875</td>\n",
       "    </tr>\n",
       "    <tr>\n",
       "      <td>50688</td>\n",
       "      <td>99</td>\n",
       "      <td>99</td>\n",
       "      <td>99</td>\n",
       "      <td>99</td>\n",
       "      <td>99.00000</td>\n",
       "      <td>99</td>\n",
       "      <td>-5.71875</td>\n",
       "      <td>-8.15625</td>\n",
       "      <td>99</td>\n",
       "      <td>99</td>\n",
       "      <td>...</td>\n",
       "      <td>99.0</td>\n",
       "      <td>99.0</td>\n",
       "      <td>99.0</td>\n",
       "      <td>99.0</td>\n",
       "      <td>99.0</td>\n",
       "      <td>99.0</td>\n",
       "      <td>99.0</td>\n",
       "      <td>3.06250</td>\n",
       "      <td>99.0</td>\n",
       "      <td>99.0000</td>\n",
       "    </tr>\n",
       "    <tr>\n",
       "      <td>50689</td>\n",
       "      <td>99</td>\n",
       "      <td>99</td>\n",
       "      <td>99</td>\n",
       "      <td>99</td>\n",
       "      <td>99.00000</td>\n",
       "      <td>99</td>\n",
       "      <td>0.09375</td>\n",
       "      <td>0.09375</td>\n",
       "      <td>99</td>\n",
       "      <td>99</td>\n",
       "      <td>...</td>\n",
       "      <td>99.0</td>\n",
       "      <td>99.0</td>\n",
       "      <td>99.0</td>\n",
       "      <td>99.0</td>\n",
       "      <td>99.0</td>\n",
       "      <td>99.0</td>\n",
       "      <td>99.0</td>\n",
       "      <td>99.00000</td>\n",
       "      <td>99.0</td>\n",
       "      <td>99.0000</td>\n",
       "    </tr>\n",
       "    <tr>\n",
       "      <td>50690</td>\n",
       "      <td>99</td>\n",
       "      <td>99</td>\n",
       "      <td>99</td>\n",
       "      <td>99</td>\n",
       "      <td>99.00000</td>\n",
       "      <td>99</td>\n",
       "      <td>-0.12500</td>\n",
       "      <td>-0.12500</td>\n",
       "      <td>99</td>\n",
       "      <td>99</td>\n",
       "      <td>...</td>\n",
       "      <td>99.0</td>\n",
       "      <td>99.0</td>\n",
       "      <td>99.0</td>\n",
       "      <td>99.0</td>\n",
       "      <td>99.0</td>\n",
       "      <td>99.0</td>\n",
       "      <td>99.0</td>\n",
       "      <td>99.00000</td>\n",
       "      <td>99.0</td>\n",
       "      <td>99.0000</td>\n",
       "    </tr>\n",
       "    <tr>\n",
       "      <td>50691</td>\n",
       "      <td>99</td>\n",
       "      <td>99</td>\n",
       "      <td>99</td>\n",
       "      <td>99</td>\n",
       "      <td>99.00000</td>\n",
       "      <td>99</td>\n",
       "      <td>-1.75000</td>\n",
       "      <td>-0.09375</td>\n",
       "      <td>99</td>\n",
       "      <td>99</td>\n",
       "      <td>...</td>\n",
       "      <td>99.0</td>\n",
       "      <td>99.0</td>\n",
       "      <td>99.0</td>\n",
       "      <td>99.0</td>\n",
       "      <td>99.0</td>\n",
       "      <td>99.0</td>\n",
       "      <td>99.0</td>\n",
       "      <td>99.00000</td>\n",
       "      <td>99.0</td>\n",
       "      <td>99.0000</td>\n",
       "    </tr>\n",
       "  </tbody>\n",
       "</table>\n",
       "<p>50691 rows × 150 columns</p>\n",
       "</div>"
      ],
      "text/plain": [
       "       1    2    3    4         5    6        7        8    9    10   ...  \\\n",
       "0       99   99   99   99   0.21875   99 -9.28125 -9.28125   99   99  ...   \n",
       "1       99   99   99   99  -9.68750   99  9.93750  9.53125   99   99  ...   \n",
       "2       99   99   99   99  -9.84375   99 -9.84375 -7.21875   99   99  ...   \n",
       "3       99   99   99   99   6.90625   99  4.75000 -5.90625   99   99  ...   \n",
       "4       99   99   99   99  -0.03125   99 -9.09375 -0.40625   99   99  ...   \n",
       "...    ...  ...  ...  ...       ...  ...      ...      ...  ...  ...  ...   \n",
       "50687   99   99   99   99  99.00000   99 -5.93750 -3.71875   99   99  ...   \n",
       "50688   99   99   99   99  99.00000   99 -5.71875 -8.15625   99   99  ...   \n",
       "50689   99   99   99   99  99.00000   99  0.09375  0.09375   99   99  ...   \n",
       "50690   99   99   99   99  99.00000   99 -0.12500 -0.12500   99   99  ...   \n",
       "50691   99   99   99   99  99.00000   99 -1.75000 -0.09375   99   99  ...   \n",
       "\n",
       "        141   142   143   144   145   146   147       148   149      150  \n",
       "0      99.0  99.0  99.0  99.0  99.0  99.0  99.0  99.00000  99.0  99.0000  \n",
       "1      99.0  99.0  99.0  99.0  99.0  99.0  99.0  99.00000  99.0  99.0000  \n",
       "2      99.0  99.0  99.0  99.0  99.0  99.0  99.0  99.00000  99.0  99.0000  \n",
       "3      99.0  99.0  99.0  99.0  99.0  99.0  99.0  99.00000  99.0  99.0000  \n",
       "4      99.0  99.0  99.0  99.0  99.0  99.0  99.0  99.00000  99.0  99.0000  \n",
       "...     ...   ...   ...   ...   ...   ...   ...       ...   ...      ...  \n",
       "50687  99.0  99.0  99.0  99.0  99.0  99.0  99.0  -1.15625  99.0  -1.1875  \n",
       "50688  99.0  99.0  99.0  99.0  99.0  99.0  99.0   3.06250  99.0  99.0000  \n",
       "50689  99.0  99.0  99.0  99.0  99.0  99.0  99.0  99.00000  99.0  99.0000  \n",
       "50690  99.0  99.0  99.0  99.0  99.0  99.0  99.0  99.00000  99.0  99.0000  \n",
       "50691  99.0  99.0  99.0  99.0  99.0  99.0  99.0  99.00000  99.0  99.0000  \n",
       "\n",
       "[50691 rows x 150 columns]"
      ]
     },
     "execution_count": 114,
     "metadata": {},
     "output_type": "execute_result"
    }
   ],
   "source": [
    "others"
   ]
  },
  {
   "cell_type": "code",
   "execution_count": 115,
   "metadata": {},
   "outputs": [
    {
     "data": {
      "text/plain": [
       "NearestNeighbors(algorithm='auto', leaf_size=30, metric='cosine',\n",
       "                 metric_params=None, n_jobs=-1, n_neighbors=5, p=2, radius=1.0)"
      ]
     },
     "execution_count": 115,
     "metadata": {},
     "output_type": "execute_result"
    }
   ],
   "source": [
    "# let's find the nearest neighbors\n",
    "knn = NearestNeighbors(n_neighbors=5, metric='cosine', n_jobs=-1)\n",
    "knn.fit(others)"
   ]
  },
  {
   "cell_type": "markdown",
   "metadata": {},
   "source": [
    "Great! Now we can use the vectors of ratings for userA as an input to our knn model.\n",
    "\n",
    "The knn model returns the distance between userA and the nears K neighbors as well as their index."
   ]
  },
  {
   "cell_type": "code",
   "execution_count": 116,
   "metadata": {
    "ExecuteTime": {
     "end_time": "2020-03-06T18:46:44.504380Z",
     "start_time": "2020-03-06T18:46:44.390493Z"
    }
   },
   "outputs": [
    {
     "name": "stdout",
     "output_type": "stream",
     "text": [
      "---------------------------------------------------------------------------------------------\n",
      "userA's K nearest neighbors: [4.93060678e-05 6.27067151e-05 8.14612696e-05 8.36617885e-05\n",
      " 8.48456414e-05]\n",
      "---------------------------------------------------------------------------------------------\n",
      "Index for nearest neighbors: [22785 34779 34921 21757 17348]\n",
      "---------------------------------------------------------------------------------------------\n"
     ]
    }
   ],
   "source": [
    "distances, indices = knn.kneighbors(userA.values.reshape(1, -1))\n",
    "distances, indices = distances[0], indices[0]\n",
    "\n",
    "\n",
    "print('---------------------------------------------------------------------------------------------')\n",
    "print(\"userA's K nearest neighbors:\", distances) \n",
    "print('---------------------------------------------------------------------------------------------')\n",
    "print(\"Index for nearest neighbors:\",indices)\n",
    "print('---------------------------------------------------------------------------------------------')"
   ]
  },
  {
   "cell_type": "markdown",
   "metadata": {},
   "source": [
    "#### Now that we have our most similar users, what's next?"
   ]
  },
  {
   "cell_type": "markdown",
   "metadata": {},
   "source": [
    "#### Find their highest rated items that aren't rated by userA"
   ]
  },
  {
   "cell_type": "code",
   "execution_count": 117,
   "metadata": {
    "ExecuteTime": {
     "end_time": "2020-03-06T18:46:46.562101Z",
     "start_time": "2020-03-06T18:46:46.557247Z"
    }
   },
   "outputs": [
    {
     "data": {
      "text/plain": [
       "array([  0,   1,   2,   3,   4,   5,   8,   9,  10,  11,  13,  19,  20,\n",
       "        21,  22,  23,  24,  25,  26,  27,  28,  29,  30,  31,  32,  33,\n",
       "        34,  36,  37,  38,  39,  40,  41,  42,  43,  44,  45,  47,  48,\n",
       "        49,  50,  51,  52,  53,  54,  56,  57,  58,  59,  60,  62,  63,\n",
       "        64,  65,  66,  67,  69,  70,  71,  72,  73,  74,  75,  76,  77,\n",
       "        78,  79,  80,  81,  82,  83,  84,  85,  86,  87,  88,  89,  90,\n",
       "        91,  92,  93,  94,  95,  97,  98,  99, 100, 101, 102, 103, 104,\n",
       "       105, 106, 107, 108, 109, 110, 111, 112, 114, 115, 116, 117, 118,\n",
       "       119, 120, 121, 122, 123, 124, 125, 127, 128, 129, 130, 132, 133,\n",
       "       134, 135, 136, 137, 138, 139, 140, 141, 142, 143, 144, 145, 146,\n",
       "       147, 148, 149])"
      ]
     },
     "execution_count": 117,
     "metadata": {},
     "output_type": "execute_result"
    }
   ],
   "source": [
    "# let's get jokes not rated by userA\n",
    "jokes_not_rated = np.where(userA==99)[0]\n",
    "jokes_not_rated"
   ]
  },
  {
   "cell_type": "markdown",
   "metadata": {},
   "source": [
    "Next we need to isolate the nearest neighbors in our data, and examine their ratings for jokes userA has not rated."
   ]
  },
  {
   "cell_type": "code",
   "execution_count": 119,
   "metadata": {
    "ExecuteTime": {
     "end_time": "2020-03-06T18:46:47.736118Z",
     "start_time": "2020-03-06T18:46:47.680096Z"
    }
   },
   "outputs": [
    {
     "data": {
      "text/html": [
       "<div>\n",
       "<style scoped>\n",
       "    .dataframe tbody tr th:only-of-type {\n",
       "        vertical-align: middle;\n",
       "    }\n",
       "\n",
       "    .dataframe tbody tr th {\n",
       "        vertical-align: top;\n",
       "    }\n",
       "\n",
       "    .dataframe thead th {\n",
       "        text-align: right;\n",
       "    }\n",
       "</style>\n",
       "<table border=\"1\" class=\"dataframe\">\n",
       "  <thead>\n",
       "    <tr style=\"text-align: right;\">\n",
       "      <th></th>\n",
       "      <th>1</th>\n",
       "      <th>2</th>\n",
       "      <th>3</th>\n",
       "      <th>4</th>\n",
       "      <th>5</th>\n",
       "      <th>8</th>\n",
       "      <th>9</th>\n",
       "      <th>10</th>\n",
       "      <th>11</th>\n",
       "      <th>13</th>\n",
       "      <th>...</th>\n",
       "      <th>140</th>\n",
       "      <th>141</th>\n",
       "      <th>142</th>\n",
       "      <th>143</th>\n",
       "      <th>144</th>\n",
       "      <th>145</th>\n",
       "      <th>146</th>\n",
       "      <th>147</th>\n",
       "      <th>148</th>\n",
       "      <th>149</th>\n",
       "    </tr>\n",
       "  </thead>\n",
       "  <tbody>\n",
       "    <tr>\n",
       "      <td>22785</td>\n",
       "      <td>99</td>\n",
       "      <td>99</td>\n",
       "      <td>99</td>\n",
       "      <td>99</td>\n",
       "      <td>99.0</td>\n",
       "      <td>-8.40625</td>\n",
       "      <td>99</td>\n",
       "      <td>99</td>\n",
       "      <td>99</td>\n",
       "      <td>-7.65625</td>\n",
       "      <td>...</td>\n",
       "      <td>99.0</td>\n",
       "      <td>99.0</td>\n",
       "      <td>99.0</td>\n",
       "      <td>2.3125</td>\n",
       "      <td>99.00000</td>\n",
       "      <td>2.875</td>\n",
       "      <td>99.0</td>\n",
       "      <td>99.0</td>\n",
       "      <td>1.40625</td>\n",
       "      <td>4.125</td>\n",
       "    </tr>\n",
       "    <tr>\n",
       "      <td>34779</td>\n",
       "      <td>99</td>\n",
       "      <td>99</td>\n",
       "      <td>99</td>\n",
       "      <td>99</td>\n",
       "      <td>99.0</td>\n",
       "      <td>-5.81250</td>\n",
       "      <td>99</td>\n",
       "      <td>99</td>\n",
       "      <td>99</td>\n",
       "      <td>2.18750</td>\n",
       "      <td>...</td>\n",
       "      <td>99.0</td>\n",
       "      <td>99.0</td>\n",
       "      <td>99.0</td>\n",
       "      <td>99.0000</td>\n",
       "      <td>-1.65625</td>\n",
       "      <td>99.000</td>\n",
       "      <td>99.0</td>\n",
       "      <td>99.0</td>\n",
       "      <td>99.00000</td>\n",
       "      <td>99.000</td>\n",
       "    </tr>\n",
       "    <tr>\n",
       "      <td>34921</td>\n",
       "      <td>99</td>\n",
       "      <td>99</td>\n",
       "      <td>99</td>\n",
       "      <td>99</td>\n",
       "      <td>99.0</td>\n",
       "      <td>-3.53125</td>\n",
       "      <td>99</td>\n",
       "      <td>99</td>\n",
       "      <td>99</td>\n",
       "      <td>-5.65625</td>\n",
       "      <td>...</td>\n",
       "      <td>99.0</td>\n",
       "      <td>99.0</td>\n",
       "      <td>99.0</td>\n",
       "      <td>99.0000</td>\n",
       "      <td>-4.21875</td>\n",
       "      <td>-3.250</td>\n",
       "      <td>99.0</td>\n",
       "      <td>99.0</td>\n",
       "      <td>99.00000</td>\n",
       "      <td>99.000</td>\n",
       "    </tr>\n",
       "    <tr>\n",
       "      <td>21757</td>\n",
       "      <td>99</td>\n",
       "      <td>99</td>\n",
       "      <td>99</td>\n",
       "      <td>99</td>\n",
       "      <td>99.0</td>\n",
       "      <td>-4.12500</td>\n",
       "      <td>99</td>\n",
       "      <td>99</td>\n",
       "      <td>99</td>\n",
       "      <td>1.62500</td>\n",
       "      <td>...</td>\n",
       "      <td>99.0</td>\n",
       "      <td>99.0</td>\n",
       "      <td>99.0</td>\n",
       "      <td>99.0000</td>\n",
       "      <td>99.00000</td>\n",
       "      <td>99.000</td>\n",
       "      <td>99.0</td>\n",
       "      <td>99.0</td>\n",
       "      <td>99.00000</td>\n",
       "      <td>99.000</td>\n",
       "    </tr>\n",
       "    <tr>\n",
       "      <td>17348</td>\n",
       "      <td>99</td>\n",
       "      <td>99</td>\n",
       "      <td>99</td>\n",
       "      <td>99</td>\n",
       "      <td>99.0</td>\n",
       "      <td>0.68750</td>\n",
       "      <td>99</td>\n",
       "      <td>99</td>\n",
       "      <td>99</td>\n",
       "      <td>1.43750</td>\n",
       "      <td>...</td>\n",
       "      <td>99.0</td>\n",
       "      <td>99.0</td>\n",
       "      <td>99.0</td>\n",
       "      <td>99.0000</td>\n",
       "      <td>99.00000</td>\n",
       "      <td>99.000</td>\n",
       "      <td>99.0</td>\n",
       "      <td>99.0</td>\n",
       "      <td>99.00000</td>\n",
       "      <td>99.000</td>\n",
       "    </tr>\n",
       "  </tbody>\n",
       "</table>\n",
       "<p>5 rows × 132 columns</p>\n",
       "</div>"
      ],
      "text/plain": [
       "       1    2    3    4     5        8    9    10   11       13   ...   140  \\\n",
       "22785   99   99   99   99  99.0 -8.40625   99   99   99 -7.65625  ...  99.0   \n",
       "34779   99   99   99   99  99.0 -5.81250   99   99   99  2.18750  ...  99.0   \n",
       "34921   99   99   99   99  99.0 -3.53125   99   99   99 -5.65625  ...  99.0   \n",
       "21757   99   99   99   99  99.0 -4.12500   99   99   99  1.62500  ...  99.0   \n",
       "17348   99   99   99   99  99.0  0.68750   99   99   99  1.43750  ...  99.0   \n",
       "\n",
       "        141   142      143       144     145   146   147       148     149  \n",
       "22785  99.0  99.0   2.3125  99.00000   2.875  99.0  99.0   1.40625   4.125  \n",
       "34779  99.0  99.0  99.0000  -1.65625  99.000  99.0  99.0  99.00000  99.000  \n",
       "34921  99.0  99.0  99.0000  -4.21875  -3.250  99.0  99.0  99.00000  99.000  \n",
       "21757  99.0  99.0  99.0000  99.00000  99.000  99.0  99.0  99.00000  99.000  \n",
       "17348  99.0  99.0  99.0000  99.00000  99.000  99.0  99.0  99.00000  99.000  \n",
       "\n",
       "[5 rows x 132 columns]"
      ]
     },
     "execution_count": 119,
     "metadata": {},
     "output_type": "execute_result"
    }
   ],
   "source": [
    "user_jokes = df.loc[indices, jokes_not_rated].drop(0, axis=1)\n",
    "user_jokes"
   ]
  },
  {
   "cell_type": "markdown",
   "metadata": {},
   "source": [
    "Let's total up the ratings of each joke!\n",
    "\n",
    "To do this, we need to replace 99 values with 0"
   ]
  },
  {
   "cell_type": "code",
   "execution_count": 120,
   "metadata": {
    "ExecuteTime": {
     "end_time": "2020-03-06T18:46:48.795510Z",
     "start_time": "2020-03-06T18:46:48.790445Z"
    }
   },
   "outputs": [],
   "source": [
    "ratings = user_jokes.replace(99, 0).sum()"
   ]
  },
  {
   "cell_type": "markdown",
   "metadata": {},
   "source": [
    "Right now, the user_jokes dataframe has rows set to individual users and jokes set as columns.\n",
    "\n",
    "We want to look at the jokes of each of these users. To do that, let's transform our user_jokes dataframe"
   ]
  },
  {
   "cell_type": "code",
   "execution_count": 121,
   "metadata": {
    "ExecuteTime": {
     "end_time": "2020-03-06T18:46:49.833403Z",
     "start_time": "2020-03-06T18:46:49.823306Z"
    }
   },
   "outputs": [
    {
     "data": {
      "text/html": [
       "<div>\n",
       "<style scoped>\n",
       "    .dataframe tbody tr th:only-of-type {\n",
       "        vertical-align: middle;\n",
       "    }\n",
       "\n",
       "    .dataframe tbody tr th {\n",
       "        vertical-align: top;\n",
       "    }\n",
       "\n",
       "    .dataframe thead th {\n",
       "        text-align: right;\n",
       "    }\n",
       "</style>\n",
       "<table border=\"1\" class=\"dataframe\">\n",
       "  <thead>\n",
       "    <tr style=\"text-align: right;\">\n",
       "      <th></th>\n",
       "      <th>22785</th>\n",
       "      <th>34779</th>\n",
       "      <th>34921</th>\n",
       "      <th>21757</th>\n",
       "      <th>17348</th>\n",
       "    </tr>\n",
       "  </thead>\n",
       "  <tbody>\n",
       "    <tr>\n",
       "      <td>1</td>\n",
       "      <td>99.0</td>\n",
       "      <td>99.0</td>\n",
       "      <td>99.0</td>\n",
       "      <td>99.0</td>\n",
       "      <td>99.0</td>\n",
       "    </tr>\n",
       "    <tr>\n",
       "      <td>2</td>\n",
       "      <td>99.0</td>\n",
       "      <td>99.0</td>\n",
       "      <td>99.0</td>\n",
       "      <td>99.0</td>\n",
       "      <td>99.0</td>\n",
       "    </tr>\n",
       "    <tr>\n",
       "      <td>3</td>\n",
       "      <td>99.0</td>\n",
       "      <td>99.0</td>\n",
       "      <td>99.0</td>\n",
       "      <td>99.0</td>\n",
       "      <td>99.0</td>\n",
       "    </tr>\n",
       "    <tr>\n",
       "      <td>4</td>\n",
       "      <td>99.0</td>\n",
       "      <td>99.0</td>\n",
       "      <td>99.0</td>\n",
       "      <td>99.0</td>\n",
       "      <td>99.0</td>\n",
       "    </tr>\n",
       "    <tr>\n",
       "      <td>5</td>\n",
       "      <td>99.0</td>\n",
       "      <td>99.0</td>\n",
       "      <td>99.0</td>\n",
       "      <td>99.0</td>\n",
       "      <td>99.0</td>\n",
       "    </tr>\n",
       "  </tbody>\n",
       "</table>\n",
       "</div>"
      ],
      "text/plain": [
       "   22785  34779  34921  21757  17348\n",
       "1   99.0   99.0   99.0   99.0   99.0\n",
       "2   99.0   99.0   99.0   99.0   99.0\n",
       "3   99.0   99.0   99.0   99.0   99.0\n",
       "4   99.0   99.0   99.0   99.0   99.0\n",
       "5   99.0   99.0   99.0   99.0   99.0"
      ]
     },
     "execution_count": 121,
     "metadata": {},
     "output_type": "execute_result"
    }
   ],
   "source": [
    "user_jokes = user_jokes.T\n",
    "\n",
    "user_jokes.head()"
   ]
  },
  {
   "cell_type": "markdown",
   "metadata": {},
   "source": [
    "Great! Now we add the joke ratings as a column to our user_jokes dataframe"
   ]
  },
  {
   "cell_type": "code",
   "execution_count": 122,
   "metadata": {
    "ExecuteTime": {
     "end_time": "2020-03-06T18:46:51.003605Z",
     "start_time": "2020-03-06T18:46:51.000723Z"
    }
   },
   "outputs": [],
   "source": [
    "user_jokes['total'] = ratings"
   ]
  },
  {
   "cell_type": "code",
   "execution_count": 126,
   "metadata": {},
   "outputs": [
    {
     "data": {
      "text/html": [
       "<div>\n",
       "<style scoped>\n",
       "    .dataframe tbody tr th:only-of-type {\n",
       "        vertical-align: middle;\n",
       "    }\n",
       "\n",
       "    .dataframe tbody tr th {\n",
       "        vertical-align: top;\n",
       "    }\n",
       "\n",
       "    .dataframe thead th {\n",
       "        text-align: right;\n",
       "    }\n",
       "</style>\n",
       "<table border=\"1\" class=\"dataframe\">\n",
       "  <thead>\n",
       "    <tr style=\"text-align: right;\">\n",
       "      <th></th>\n",
       "      <th>22785</th>\n",
       "      <th>34779</th>\n",
       "      <th>34921</th>\n",
       "      <th>21757</th>\n",
       "      <th>17348</th>\n",
       "      <th>total</th>\n",
       "    </tr>\n",
       "  </thead>\n",
       "  <tbody>\n",
       "    <tr>\n",
       "      <td>1</td>\n",
       "      <td>99.0</td>\n",
       "      <td>99.0</td>\n",
       "      <td>99.0</td>\n",
       "      <td>99.0</td>\n",
       "      <td>99.0</td>\n",
       "      <td>0.0</td>\n",
       "    </tr>\n",
       "    <tr>\n",
       "      <td>2</td>\n",
       "      <td>99.0</td>\n",
       "      <td>99.0</td>\n",
       "      <td>99.0</td>\n",
       "      <td>99.0</td>\n",
       "      <td>99.0</td>\n",
       "      <td>0.0</td>\n",
       "    </tr>\n",
       "    <tr>\n",
       "      <td>3</td>\n",
       "      <td>99.0</td>\n",
       "      <td>99.0</td>\n",
       "      <td>99.0</td>\n",
       "      <td>99.0</td>\n",
       "      <td>99.0</td>\n",
       "      <td>0.0</td>\n",
       "    </tr>\n",
       "    <tr>\n",
       "      <td>4</td>\n",
       "      <td>99.0</td>\n",
       "      <td>99.0</td>\n",
       "      <td>99.0</td>\n",
       "      <td>99.0</td>\n",
       "      <td>99.0</td>\n",
       "      <td>0.0</td>\n",
       "    </tr>\n",
       "    <tr>\n",
       "      <td>5</td>\n",
       "      <td>99.0</td>\n",
       "      <td>99.0</td>\n",
       "      <td>99.0</td>\n",
       "      <td>99.0</td>\n",
       "      <td>99.0</td>\n",
       "      <td>0.0</td>\n",
       "    </tr>\n",
       "  </tbody>\n",
       "</table>\n",
       "</div>"
      ],
      "text/plain": [
       "   22785  34779  34921  21757  17348  total\n",
       "1   99.0   99.0   99.0   99.0   99.0    0.0\n",
       "2   99.0   99.0   99.0   99.0   99.0    0.0\n",
       "3   99.0   99.0   99.0   99.0   99.0    0.0\n",
       "4   99.0   99.0   99.0   99.0   99.0    0.0\n",
       "5   99.0   99.0   99.0   99.0   99.0    0.0"
      ]
     },
     "execution_count": 126,
     "metadata": {},
     "output_type": "execute_result"
    }
   ],
   "source": [
    "user_jokes.head()"
   ]
  },
  {
   "cell_type": "code",
   "execution_count": 127,
   "metadata": {},
   "outputs": [
    {
     "data": {
      "text/html": [
       "<div>\n",
       "<style scoped>\n",
       "    .dataframe tbody tr th:only-of-type {\n",
       "        vertical-align: middle;\n",
       "    }\n",
       "\n",
       "    .dataframe tbody tr th {\n",
       "        vertical-align: top;\n",
       "    }\n",
       "\n",
       "    .dataframe thead th {\n",
       "        text-align: right;\n",
       "    }\n",
       "</style>\n",
       "<table border=\"1\" class=\"dataframe\">\n",
       "  <thead>\n",
       "    <tr style=\"text-align: right;\">\n",
       "      <th></th>\n",
       "      <th>22785</th>\n",
       "      <th>34779</th>\n",
       "      <th>34921</th>\n",
       "      <th>21757</th>\n",
       "      <th>17348</th>\n",
       "      <th>total</th>\n",
       "    </tr>\n",
       "  </thead>\n",
       "  <tbody>\n",
       "    <tr>\n",
       "      <td>63</td>\n",
       "      <td>6.46875</td>\n",
       "      <td>99.0</td>\n",
       "      <td>99.00000</td>\n",
       "      <td>99.000</td>\n",
       "      <td>99.00000</td>\n",
       "      <td>6.46875</td>\n",
       "    </tr>\n",
       "    <tr>\n",
       "      <td>64</td>\n",
       "      <td>99.00000</td>\n",
       "      <td>99.0</td>\n",
       "      <td>99.00000</td>\n",
       "      <td>99.000</td>\n",
       "      <td>99.00000</td>\n",
       "      <td>0.00000</td>\n",
       "    </tr>\n",
       "    <tr>\n",
       "      <td>65</td>\n",
       "      <td>99.00000</td>\n",
       "      <td>99.0</td>\n",
       "      <td>99.00000</td>\n",
       "      <td>99.000</td>\n",
       "      <td>99.00000</td>\n",
       "      <td>0.00000</td>\n",
       "    </tr>\n",
       "    <tr>\n",
       "      <td>66</td>\n",
       "      <td>3.59375</td>\n",
       "      <td>99.0</td>\n",
       "      <td>7.68750</td>\n",
       "      <td>99.000</td>\n",
       "      <td>99.00000</td>\n",
       "      <td>11.28125</td>\n",
       "    </tr>\n",
       "    <tr>\n",
       "      <td>67</td>\n",
       "      <td>99.00000</td>\n",
       "      <td>99.0</td>\n",
       "      <td>99.00000</td>\n",
       "      <td>99.000</td>\n",
       "      <td>99.00000</td>\n",
       "      <td>0.00000</td>\n",
       "    </tr>\n",
       "    <tr>\n",
       "      <td>69</td>\n",
       "      <td>2.12500</td>\n",
       "      <td>99.0</td>\n",
       "      <td>4.09375</td>\n",
       "      <td>6.875</td>\n",
       "      <td>7.21875</td>\n",
       "      <td>20.31250</td>\n",
       "    </tr>\n",
       "    <tr>\n",
       "      <td>70</td>\n",
       "      <td>99.00000</td>\n",
       "      <td>99.0</td>\n",
       "      <td>99.00000</td>\n",
       "      <td>99.000</td>\n",
       "      <td>99.00000</td>\n",
       "      <td>0.00000</td>\n",
       "    </tr>\n",
       "    <tr>\n",
       "      <td>71</td>\n",
       "      <td>99.00000</td>\n",
       "      <td>99.0</td>\n",
       "      <td>99.00000</td>\n",
       "      <td>99.000</td>\n",
       "      <td>99.00000</td>\n",
       "      <td>0.00000</td>\n",
       "    </tr>\n",
       "    <tr>\n",
       "      <td>72</td>\n",
       "      <td>6.09375</td>\n",
       "      <td>99.0</td>\n",
       "      <td>4.53125</td>\n",
       "      <td>99.000</td>\n",
       "      <td>99.00000</td>\n",
       "      <td>10.62500</td>\n",
       "    </tr>\n",
       "    <tr>\n",
       "      <td>73</td>\n",
       "      <td>99.00000</td>\n",
       "      <td>99.0</td>\n",
       "      <td>99.00000</td>\n",
       "      <td>99.000</td>\n",
       "      <td>99.00000</td>\n",
       "      <td>0.00000</td>\n",
       "    </tr>\n",
       "    <tr>\n",
       "      <td>74</td>\n",
       "      <td>99.00000</td>\n",
       "      <td>99.0</td>\n",
       "      <td>99.00000</td>\n",
       "      <td>99.000</td>\n",
       "      <td>99.00000</td>\n",
       "      <td>0.00000</td>\n",
       "    </tr>\n",
       "    <tr>\n",
       "      <td>75</td>\n",
       "      <td>99.00000</td>\n",
       "      <td>99.0</td>\n",
       "      <td>99.00000</td>\n",
       "      <td>99.000</td>\n",
       "      <td>99.00000</td>\n",
       "      <td>0.00000</td>\n",
       "    </tr>\n",
       "    <tr>\n",
       "      <td>76</td>\n",
       "      <td>2.78125</td>\n",
       "      <td>99.0</td>\n",
       "      <td>6.65625</td>\n",
       "      <td>99.000</td>\n",
       "      <td>99.00000</td>\n",
       "      <td>9.43750</td>\n",
       "    </tr>\n",
       "    <tr>\n",
       "      <td>77</td>\n",
       "      <td>99.00000</td>\n",
       "      <td>99.0</td>\n",
       "      <td>-3.09375</td>\n",
       "      <td>99.000</td>\n",
       "      <td>99.00000</td>\n",
       "      <td>-3.09375</td>\n",
       "    </tr>\n",
       "    <tr>\n",
       "      <td>78</td>\n",
       "      <td>99.00000</td>\n",
       "      <td>99.0</td>\n",
       "      <td>99.00000</td>\n",
       "      <td>3.750</td>\n",
       "      <td>99.00000</td>\n",
       "      <td>3.75000</td>\n",
       "    </tr>\n",
       "    <tr>\n",
       "      <td>79</td>\n",
       "      <td>99.00000</td>\n",
       "      <td>99.0</td>\n",
       "      <td>99.00000</td>\n",
       "      <td>99.000</td>\n",
       "      <td>99.00000</td>\n",
       "      <td>0.00000</td>\n",
       "    </tr>\n",
       "    <tr>\n",
       "      <td>80</td>\n",
       "      <td>99.00000</td>\n",
       "      <td>99.0</td>\n",
       "      <td>99.00000</td>\n",
       "      <td>99.000</td>\n",
       "      <td>99.00000</td>\n",
       "      <td>0.00000</td>\n",
       "    </tr>\n",
       "    <tr>\n",
       "      <td>81</td>\n",
       "      <td>99.00000</td>\n",
       "      <td>99.0</td>\n",
       "      <td>1.12500</td>\n",
       "      <td>99.000</td>\n",
       "      <td>99.00000</td>\n",
       "      <td>1.12500</td>\n",
       "    </tr>\n",
       "    <tr>\n",
       "      <td>82</td>\n",
       "      <td>99.00000</td>\n",
       "      <td>99.0</td>\n",
       "      <td>99.00000</td>\n",
       "      <td>99.000</td>\n",
       "      <td>99.00000</td>\n",
       "      <td>0.00000</td>\n",
       "    </tr>\n",
       "    <tr>\n",
       "      <td>83</td>\n",
       "      <td>99.00000</td>\n",
       "      <td>99.0</td>\n",
       "      <td>-2.62500</td>\n",
       "      <td>99.000</td>\n",
       "      <td>99.00000</td>\n",
       "      <td>-2.62500</td>\n",
       "    </tr>\n",
       "  </tbody>\n",
       "</table>\n",
       "</div>"
      ],
      "text/plain": [
       "       22785  34779     34921   21757     17348     total\n",
       "63   6.46875   99.0  99.00000  99.000  99.00000   6.46875\n",
       "64  99.00000   99.0  99.00000  99.000  99.00000   0.00000\n",
       "65  99.00000   99.0  99.00000  99.000  99.00000   0.00000\n",
       "66   3.59375   99.0   7.68750  99.000  99.00000  11.28125\n",
       "67  99.00000   99.0  99.00000  99.000  99.00000   0.00000\n",
       "69   2.12500   99.0   4.09375   6.875   7.21875  20.31250\n",
       "70  99.00000   99.0  99.00000  99.000  99.00000   0.00000\n",
       "71  99.00000   99.0  99.00000  99.000  99.00000   0.00000\n",
       "72   6.09375   99.0   4.53125  99.000  99.00000  10.62500\n",
       "73  99.00000   99.0  99.00000  99.000  99.00000   0.00000\n",
       "74  99.00000   99.0  99.00000  99.000  99.00000   0.00000\n",
       "75  99.00000   99.0  99.00000  99.000  99.00000   0.00000\n",
       "76   2.78125   99.0   6.65625  99.000  99.00000   9.43750\n",
       "77  99.00000   99.0  -3.09375  99.000  99.00000  -3.09375\n",
       "78  99.00000   99.0  99.00000   3.750  99.00000   3.75000\n",
       "79  99.00000   99.0  99.00000  99.000  99.00000   0.00000\n",
       "80  99.00000   99.0  99.00000  99.000  99.00000   0.00000\n",
       "81  99.00000   99.0   1.12500  99.000  99.00000   1.12500\n",
       "82  99.00000   99.0  99.00000  99.000  99.00000   0.00000\n",
       "83  99.00000   99.0  -2.62500  99.000  99.00000  -2.62500"
      ]
     },
     "execution_count": 127,
     "metadata": {},
     "output_type": "execute_result"
    }
   ],
   "source": [
    "user_jokes.iloc[50:70]"
   ]
  },
  {
   "cell_type": "markdown",
   "metadata": {},
   "source": [
    "Using the method .idxmax(), we return the index for the joke with the highest rating!"
   ]
  },
  {
   "cell_type": "code",
   "execution_count": 124,
   "metadata": {
    "ExecuteTime": {
     "end_time": "2020-03-06T18:46:52.137578Z",
     "start_time": "2020-03-06T18:46:52.133525Z"
    }
   },
   "outputs": [
    {
     "data": {
      "text/plain": [
       "69"
      ]
     },
     "execution_count": 124,
     "metadata": {},
     "output_type": "execute_result"
    }
   ],
   "source": [
    "recommend_index = user_jokes['total'].idxmax()\n",
    "recommend_index"
   ]
  },
  {
   "cell_type": "code",
   "execution_count": 128,
   "metadata": {
    "ExecuteTime": {
     "end_time": "2020-03-06T18:46:53.021410Z",
     "start_time": "2020-03-06T18:46:53.011460Z"
    }
   },
   "outputs": [
    {
     "data": {
      "text/html": [
       "<div>\n",
       "<style scoped>\n",
       "    .dataframe tbody tr th:only-of-type {\n",
       "        vertical-align: middle;\n",
       "    }\n",
       "\n",
       "    .dataframe tbody tr th {\n",
       "        vertical-align: top;\n",
       "    }\n",
       "\n",
       "    .dataframe thead th {\n",
       "        text-align: right;\n",
       "    }\n",
       "</style>\n",
       "<table border=\"1\" class=\"dataframe\">\n",
       "  <thead>\n",
       "    <tr style=\"text-align: right;\">\n",
       "      <th></th>\n",
       "      <th>22785</th>\n",
       "      <th>34779</th>\n",
       "      <th>34921</th>\n",
       "      <th>21757</th>\n",
       "      <th>17348</th>\n",
       "      <th>total</th>\n",
       "    </tr>\n",
       "  </thead>\n",
       "  <tbody>\n",
       "    <tr>\n",
       "      <td>69</td>\n",
       "      <td>2.12500</td>\n",
       "      <td>99.0000</td>\n",
       "      <td>4.09375</td>\n",
       "      <td>6.87500</td>\n",
       "      <td>7.21875</td>\n",
       "      <td>20.31250</td>\n",
       "    </tr>\n",
       "    <tr>\n",
       "      <td>114</td>\n",
       "      <td>5.93750</td>\n",
       "      <td>6.4375</td>\n",
       "      <td>-0.25000</td>\n",
       "      <td>5.78125</td>\n",
       "      <td>1.50000</td>\n",
       "      <td>19.40625</td>\n",
       "    </tr>\n",
       "    <tr>\n",
       "      <td>49</td>\n",
       "      <td>99.00000</td>\n",
       "      <td>99.0000</td>\n",
       "      <td>8.59375</td>\n",
       "      <td>8.84375</td>\n",
       "      <td>99.00000</td>\n",
       "      <td>17.43750</td>\n",
       "    </tr>\n",
       "    <tr>\n",
       "      <td>36</td>\n",
       "      <td>5.34375</td>\n",
       "      <td>2.6250</td>\n",
       "      <td>3.56250</td>\n",
       "      <td>99.00000</td>\n",
       "      <td>5.59375</td>\n",
       "      <td>17.12500</td>\n",
       "    </tr>\n",
       "    <tr>\n",
       "      <td>127</td>\n",
       "      <td>8.93750</td>\n",
       "      <td>99.0000</td>\n",
       "      <td>99.00000</td>\n",
       "      <td>0.87500</td>\n",
       "      <td>5.12500</td>\n",
       "      <td>14.93750</td>\n",
       "    </tr>\n",
       "  </tbody>\n",
       "</table>\n",
       "</div>"
      ],
      "text/plain": [
       "        22785    34779     34921     21757     17348     total\n",
       "69    2.12500  99.0000   4.09375   6.87500   7.21875  20.31250\n",
       "114   5.93750   6.4375  -0.25000   5.78125   1.50000  19.40625\n",
       "49   99.00000  99.0000   8.59375   8.84375  99.00000  17.43750\n",
       "36    5.34375   2.6250   3.56250  99.00000   5.59375  17.12500\n",
       "127   8.93750  99.0000  99.00000   0.87500   5.12500  14.93750"
      ]
     },
     "execution_count": 128,
     "metadata": {},
     "output_type": "execute_result"
    }
   ],
   "source": [
    "# checking our work\n",
    "user_jokes.sort_values(by='total', ascending=False).head()"
   ]
  },
  {
   "cell_type": "markdown",
   "metadata": {},
   "source": [
    "Now all we have to do is plug in the index to our jokes dataframe, and return the recommended joke!"
   ]
  },
  {
   "cell_type": "code",
   "execution_count": 129,
   "metadata": {
    "ExecuteTime": {
     "end_time": "2020-03-06T18:46:54.313973Z",
     "start_time": "2020-03-06T18:46:54.309963Z"
    }
   },
   "outputs": [
    {
     "data": {
      "text/plain": [
       "'Employer to applicant: \"In this job we need someone who is responsible.\" Applicant: \"I\\'m the one you want. On my last job, every time anything went wrong, they said I was responsible.\"'"
      ]
     },
     "execution_count": 129,
     "metadata": {},
     "output_type": "execute_result"
    }
   ],
   "source": [
    "jokes.iloc[recommend_index][1]"
   ]
  },
  {
   "cell_type": "code",
   "execution_count": 133,
   "metadata": {},
   "outputs": [
    {
     "data": {
      "text/plain": [
       "'A Jewish young man was seeing a psychiatrist for an eating and sleeping disorder. \"I am so obsessed with my mother...As soon as I go to sleep, I start dreaming, and everyone in my dream turns into my mother. I wake up in such a state, and all I can do is go downstairs and eat a piece of toast.\" The psychiatrist replies, \"What, just one piece of toast, for a big boy like you?\"'"
      ]
     },
     "execution_count": 133,
     "metadata": {},
     "output_type": "execute_result"
    }
   ],
   "source": [
    "jokes.iloc[36][1]"
   ]
  },
  {
   "cell_type": "markdown",
   "metadata": {},
   "source": [
    "# We did it!"
   ]
  },
  {
   "cell_type": "markdown",
   "metadata": {},
   "source": [
    "### Assignment"
   ]
  },
  {
   "cell_type": "markdown",
   "metadata": {},
   "source": [
    "Please create a function called recommend_joke that will receive a user index, and spit out the recommended joke.\n",
    "\n",
    "I recommend dividing up each step of the process coded out above ito seperate functions. This is standard practice in industry, makes our code easier to read, and makes testing for bugs an easier process. \n",
    "\n",
    "Please respond in your cohort slack channel with a recommended joke, and the index for the joke. \n",
    "Check to see if your recommendations match those of your cohort members."
   ]
  },
  {
   "cell_type": "code",
   "execution_count": null,
   "metadata": {
    "ExecuteTime": {
     "end_time": "2020-03-06T18:46:58.800361Z",
     "start_time": "2020-03-06T18:46:58.790754Z"
    }
   },
   "outputs": [],
   "source": [
    "# build a flow for a given user then turn this into a function\n"
   ]
  },
  {
   "cell_type": "code",
   "execution_count": null,
   "metadata": {
    "ExecuteTime": {
     "end_time": "2020-03-06T18:46:59.633029Z",
     "start_time": "2020-03-06T18:46:59.306014Z"
    }
   },
   "outputs": [],
   "source": [
    "recommend_joke(400)"
   ]
  },
  {
   "cell_type": "code",
   "execution_count": null,
   "metadata": {},
   "outputs": [],
   "source": []
  }
 ],
 "metadata": {
  "kernelspec": {
   "display_name": "Python 3",
   "language": "python",
   "name": "python3"
  },
  "language_info": {
   "codemirror_mode": {
    "name": "ipython",
    "version": 3
   },
   "file_extension": ".py",
   "mimetype": "text/x-python",
   "name": "python",
   "nbconvert_exporter": "python",
   "pygments_lexer": "ipython3",
   "version": "3.6.0"
  },
  "toc": {
   "base_numbering": 1,
   "nav_menu": {},
   "number_sections": true,
   "sideBar": true,
   "skip_h1_title": false,
   "title_cell": "Table of Contents",
   "title_sidebar": "Contents",
   "toc_cell": false,
   "toc_position": {},
   "toc_section_display": true,
   "toc_window_display": false
  }
 },
 "nbformat": 4,
 "nbformat_minor": 2
}
