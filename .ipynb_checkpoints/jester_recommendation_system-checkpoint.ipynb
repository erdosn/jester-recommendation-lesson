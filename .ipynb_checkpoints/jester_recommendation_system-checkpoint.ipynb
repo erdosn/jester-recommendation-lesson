{
 "cells": [
  {
   "cell_type": "markdown",
   "metadata": {},
   "source": [
    "# The Jester Dataset"
   ]
  },
  {
   "cell_type": "markdown",
   "metadata": {},
   "source": [
    "![](https://vignette.wikia.nocookie.net/helmet-heroes/images/9/9b/Jester_Hat.png/revision/latest/scale-to-width-down/340?cb=20131023213944)"
   ]
  },
  {
   "cell_type": "markdown",
   "metadata": {},
   "source": [
    "Today we will be building a recommendation system using User ratings of jokes.\n",
    "\n",
    "By the end of this notebook, we will know how to \n",
    "- Format our data for user:user recommendation\n",
    "- Find the cosign similarity between two vectors\n",
    "- Use K Nearest Neighbor to indentify vector similarity\n",
    "- Filter a dataframe to identify the highest rated joke based on K most similar users."
   ]
  },
  {
   "cell_type": "code",
   "execution_count": null,
   "metadata": {
    "ExecuteTime": {
     "end_time": "2020-03-06T18:46:29.147877Z",
     "start_time": "2020-03-06T18:46:29.144364Z"
    }
   },
   "outputs": [],
   "source": [
    "import pandas as pd\n",
    "import numpy as np\n",
    "\n",
    "from sklearn.neighbors import NearestNeighbors\n",
    "from sklearn.metrics.pairwise import cosine_similarity, cosine_distances\n",
    "\n",
    "\n",
    "import matplotlib.pyplot as plt\n",
    "import seaborn as sns\n",
    "\n",
    "import warnings\n",
    "warnings.filterwarnings(\"ignore\")"
   ]
  },
  {
   "cell_type": "markdown",
   "metadata": {},
   "source": [
    "### About user data\n",
    "Format:\n",
    "\n",
    "- Ratings are real values ranging from -10.00 to +10.00 (the value \"99\" corresponds to \"null\" = \"not rated\").\n",
    "- One row per user\n",
    "- The first column gives the number of jokes rated by that user. The next 100 columns give the ratings for jokes 01 - 100.\n",
    "- The sub-matrix including only columns {5, 7, 8, 13, 15, 16, 17, 18, 19, 20} is dense. Almost all users have rated those jokes (see discussion of \"universal queries\" [here](http://eigentaste.berkeley.edu/)).\n"
   ]
  },
  {
   "cell_type": "code",
   "execution_count": null,
   "metadata": {
    "ExecuteTime": {
     "end_time": "2020-03-06T18:46:31.575913Z",
     "start_time": "2020-03-06T18:46:31.102103Z"
    }
   },
   "outputs": [],
   "source": [
    "df = pd.read_csv('./data/jesterfinal151cols.csv', header=None)\n",
    "df = df.fillna(99)"
   ]
  },
  {
   "cell_type": "code",
   "execution_count": null,
   "metadata": {
    "ExecuteTime": {
     "end_time": "2020-03-06T18:46:32.096897Z",
     "start_time": "2020-03-06T18:46:32.075833Z"
    }
   },
   "outputs": [],
   "source": [
    "df.head()"
   ]
  },
  {
   "cell_type": "markdown",
   "metadata": {},
   "source": [
    "### Joke data"
   ]
  },
  {
   "cell_type": "code",
   "execution_count": null,
   "metadata": {
    "ExecuteTime": {
     "end_time": "2020-03-06T18:46:33.391893Z",
     "start_time": "2020-03-06T18:46:33.383116Z"
    }
   },
   "outputs": [],
   "source": [
    "jokes = pd.read_table('./data/jester_items.tsv', header = None)\n",
    "jokes.head()"
   ]
  },
  {
   "cell_type": "markdown",
   "metadata": {},
   "source": [
    "The 0 column is the join column we need to connect with the user dataframe. \n",
    "\n",
    "I could clean the column, but it would be easier to just set our index to a range  of numbers."
   ]
  },
  {
   "cell_type": "code",
   "execution_count": null,
   "metadata": {
    "ExecuteTime": {
     "end_time": "2020-03-06T18:46:34.724368Z",
     "start_time": "2020-03-06T18:46:34.717453Z"
    }
   },
   "outputs": [],
   "source": [
    "jokes.index = [x for x in range(1,150)]\n",
    "\n",
    "jokes.drop(0, axis = 1, inplace = True)"
   ]
  },
  {
   "cell_type": "code",
   "execution_count": null,
   "metadata": {
    "ExecuteTime": {
     "end_time": "2020-03-06T18:46:35.650125Z",
     "start_time": "2020-03-06T18:46:35.642948Z"
    }
   },
   "outputs": [],
   "source": [
    "jokes.head()"
   ]
  },
  {
   "cell_type": "markdown",
   "metadata": {
    "ExecuteTime": {
     "end_time": "2020-03-06T17:52:25.406789Z",
     "start_time": "2020-03-06T17:52:25.402698Z"
    }
   },
   "source": [
    "Nice."
   ]
  },
  {
   "cell_type": "markdown",
   "metadata": {},
   "source": [
    "### Cosine similarity"
   ]
  },
  {
   "cell_type": "markdown",
   "metadata": {},
   "source": [
    "Cosine similarty = 1 - cosign distance\n",
    "\n",
    "#### What does cosine similarity measure?\n",
    "- The angle between two vectors\n",
    "    - if cosine(v1, v2) == 0 -> perpendicular\n",
    "    - if cosine(v1, v2) == 1 -> same direction\n",
    "    - if cosine(v1, v2) == -1 -> opposite direction"
   ]
  },
  {
   "cell_type": "markdown",
   "metadata": {},
   "source": [
    "Let's create two vectors and find their cosine distance"
   ]
  },
  {
   "cell_type": "code",
   "execution_count": null,
   "metadata": {
    "ExecuteTime": {
     "end_time": "2020-03-06T18:46:37.914150Z",
     "start_time": "2020-03-06T18:46:37.908597Z"
    }
   },
   "outputs": [],
   "source": [
    "v1 = np.array([1, 2])\n",
    "v2 = np.array([1, 2.5])\n",
    "\n",
    "distance = cosine_distances(v1.reshape(1, -1), v2.reshape(1, -1))"
   ]
  },
  {
   "cell_type": "code",
   "execution_count": null,
   "metadata": {
    "ExecuteTime": {
     "end_time": "2020-03-06T18:46:38.587371Z",
     "start_time": "2020-03-06T18:46:38.582387Z"
    }
   },
   "outputs": [],
   "source": [
    "similarity = 1 - cosine_distances(v1.reshape(1, -1), v2.reshape(1, -1))\n",
    "similarity"
   ]
  },
  {
   "cell_type": "markdown",
   "metadata": {},
   "source": [
    "There is also an function for this that we can use."
   ]
  },
  {
   "cell_type": "code",
   "execution_count": null,
   "metadata": {
    "ExecuteTime": {
     "end_time": "2020-03-06T18:46:39.831855Z",
     "start_time": "2020-03-06T18:46:39.826755Z"
    }
   },
   "outputs": [],
   "source": [
    "cosine_similarity(v1.reshape(1, -1), v2.reshape(1, -1))"
   ]
  },
  {
   "cell_type": "markdown",
   "metadata": {},
   "source": [
    "### How do we build a recommender system?\n",
    "- How do we recommend a joke to userA?\n",
    "    - user to user ->\n",
    "        - find users that are similar to userA\n",
    "        - recommend highly rated jokes that userA has not rated by those users to userA"
   ]
  },
  {
   "cell_type": "markdown",
   "metadata": {},
   "source": [
    "### Let's condition the data for a recommender system\n"
   ]
  },
  {
   "cell_type": "code",
   "execution_count": null,
   "metadata": {
    "ExecuteTime": {
     "end_time": "2020-03-06T18:46:42.818294Z",
     "start_time": "2020-03-06T18:46:42.726447Z"
    }
   },
   "outputs": [],
   "source": [
    "# build a flow for a given user then turn this into a function\n",
    "\n",
    "## User we would like to recommend a joke to\n",
    "user_index = 0\n",
    "\n",
    "## Drop column that totals the numbers of jokes each user has rated. \n",
    "## Isolate the row for the desired user\n",
    "userA = df.drop(0, axis=1).loc[user_index, :]\n",
    "\n",
    "# let's get the other users\n",
    "others = df.drop(0, axis=1).drop(index=user_index, axis=0)\n",
    "\n",
    "\n",
    "# let's find the nearest neighbors\n",
    "knn = NearestNeighbors(n_neighbors=5, metric='cosine', n_jobs=-1)\n",
    "knn.fit(others)"
   ]
  },
  {
   "cell_type": "markdown",
   "metadata": {},
   "source": [
    "Great! Now we can use the vectors of ratings for userA as an input to our knn model.\n",
    "\n",
    "The knn model returns the distance between userA and the nears K neighbors as well as their index."
   ]
  },
  {
   "cell_type": "code",
   "execution_count": null,
   "metadata": {
    "ExecuteTime": {
     "end_time": "2020-03-06T18:46:44.504380Z",
     "start_time": "2020-03-06T18:46:44.390493Z"
    }
   },
   "outputs": [],
   "source": [
    "distances, indices = knn.kneighbors(userA.values.reshape(1, -1))\n",
    "distances, indices = distances[0], indices[0]\n",
    "\n",
    "\n",
    "print('---------------------------------------------------------------------------------------------')\n",
    "print(\"userA's K nearest neighbors:\", distances) \n",
    "print('---------------------------------------------------------------------------------------------')\n",
    "print(\"Index for nearest neighbors:\",indices)\n",
    "print('---------------------------------------------------------------------------------------------')"
   ]
  },
  {
   "cell_type": "markdown",
   "metadata": {},
   "source": [
    "#### Now that we have our most similar users, what's next?"
   ]
  },
  {
   "cell_type": "markdown",
   "metadata": {},
   "source": [
    "#### Find their highest rated items that aren't rated by userA"
   ]
  },
  {
   "cell_type": "code",
   "execution_count": null,
   "metadata": {
    "ExecuteTime": {
     "end_time": "2020-03-06T18:46:46.562101Z",
     "start_time": "2020-03-06T18:46:46.557247Z"
    }
   },
   "outputs": [],
   "source": [
    "# let's get jokes not rated by userA\n",
    "jokes_not_rated = np.where(userA==99)[0]\n",
    "jokes_not_rated"
   ]
  },
  {
   "cell_type": "markdown",
   "metadata": {},
   "source": [
    "Next we need to isolate the nearest neighbors in our data, and examine their ratings for jokes userA has not rated."
   ]
  },
  {
   "cell_type": "code",
   "execution_count": null,
   "metadata": {
    "ExecuteTime": {
     "end_time": "2020-03-06T18:46:47.736118Z",
     "start_time": "2020-03-06T18:46:47.680096Z"
    }
   },
   "outputs": [],
   "source": [
    "user_jokes = df.drop(0, axis=1).loc[indices, jokes_not_rated]\n",
    "user_jokes"
   ]
  },
  {
   "cell_type": "markdown",
   "metadata": {},
   "source": [
    "Let's total up the ratings of each joke!\n",
    "\n",
    "To do this, we need to replace 99 values with 0"
   ]
  },
  {
   "cell_type": "code",
   "execution_count": null,
   "metadata": {
    "ExecuteTime": {
     "end_time": "2020-03-06T18:46:48.795510Z",
     "start_time": "2020-03-06T18:46:48.790445Z"
    }
   },
   "outputs": [],
   "source": [
    "ratings = user_jokes.replace(99, 0).sum()"
   ]
  },
  {
   "cell_type": "markdown",
   "metadata": {},
   "source": [
    "Right now, the user_jokes dataframe has rows set to individual users and jokes set as columns.\n",
    "\n",
    "We want to look at the jokes of each of these users. To do that, let's transform our user_jokes dataframe"
   ]
  },
  {
   "cell_type": "code",
   "execution_count": null,
   "metadata": {
    "ExecuteTime": {
     "end_time": "2020-03-06T18:46:49.833403Z",
     "start_time": "2020-03-06T18:46:49.823306Z"
    }
   },
   "outputs": [],
   "source": [
    "user_jokes = user_jokes.T\n",
    "\n",
    "user_jokes.head()"
   ]
  },
  {
   "cell_type": "markdown",
   "metadata": {},
   "source": [
    "Great! Now we add the joke ratings as a column to our user_jokes dataframe"
   ]
  },
  {
   "cell_type": "code",
   "execution_count": null,
   "metadata": {
    "ExecuteTime": {
     "end_time": "2020-03-06T18:46:51.003605Z",
     "start_time": "2020-03-06T18:46:51.000723Z"
    }
   },
   "outputs": [],
   "source": [
    "user_jokes['total'] = ratings"
   ]
  },
  {
   "cell_type": "markdown",
   "metadata": {},
   "source": [
    "Using the method .idxmax(), we return the index for the joke with the highest rating!"
   ]
  },
  {
   "cell_type": "code",
   "execution_count": null,
   "metadata": {
    "ExecuteTime": {
     "end_time": "2020-03-06T18:46:52.137578Z",
     "start_time": "2020-03-06T18:46:52.133525Z"
    }
   },
   "outputs": [],
   "source": [
    "recommend_index = user_jokes['total'].idxmax()\n",
    "recommend_index"
   ]
  },
  {
   "cell_type": "code",
   "execution_count": null,
   "metadata": {
    "ExecuteTime": {
     "end_time": "2020-03-06T18:46:53.021410Z",
     "start_time": "2020-03-06T18:46:53.011460Z"
    }
   },
   "outputs": [],
   "source": [
    "# checking our work\n",
    "user_jokes.sort_values(by='total', ascending=False).head()"
   ]
  },
  {
   "cell_type": "markdown",
   "metadata": {},
   "source": [
    "Now all we have to do is plug in the index to our jokes dataframe, and return the recommended joke!"
   ]
  },
  {
   "cell_type": "code",
   "execution_count": null,
   "metadata": {
    "ExecuteTime": {
     "end_time": "2020-03-06T18:46:54.313973Z",
     "start_time": "2020-03-06T18:46:54.309963Z"
    }
   },
   "outputs": [],
   "source": [
    "jokes.iloc[recommend_index][1]"
   ]
  },
  {
   "cell_type": "markdown",
   "metadata": {},
   "source": [
    "# We did it!"
   ]
  },
  {
   "cell_type": "markdown",
   "metadata": {},
   "source": [
    "### Assignment"
   ]
  },
  {
   "cell_type": "markdown",
   "metadata": {},
   "source": [
    "Please create a function called recommend_joke that will receive a user index, and spit out the recommended joke.\n",
    "\n",
    "I recommend dividing up each step of the process coded out above ito seperate functions. This is standard practice in industry, makes our code easier to read, and makes testing for bugs an easier process. \n",
    "\n",
    "Please respond in your cohort slack channel with a recommended joke, and the index for the joke. \n",
    "Check to see if your recommendations match those of your cohort members."
   ]
  },
  {
   "cell_type": "code",
   "execution_count": null,
   "metadata": {
    "ExecuteTime": {
     "end_time": "2020-03-06T18:46:58.800361Z",
     "start_time": "2020-03-06T18:46:58.790754Z"
    }
   },
   "outputs": [],
   "source": [
    "# build a flow for a given user then turn this into a function\n"
   ]
  },
  {
   "cell_type": "code",
   "execution_count": null,
   "metadata": {
    "ExecuteTime": {
     "end_time": "2020-03-06T18:46:59.633029Z",
     "start_time": "2020-03-06T18:46:59.306014Z"
    }
   },
   "outputs": [],
   "source": [
    "recommend_joke(400)"
   ]
  },
  {
   "cell_type": "code",
   "execution_count": null,
   "metadata": {},
   "outputs": [],
   "source": []
  }
 ],
 "metadata": {
  "kernelspec": {
   "display_name": "Python 3",
   "language": "python",
   "name": "python3"
  },
  "language_info": {
   "codemirror_mode": {
    "name": "ipython",
    "version": 3
   },
   "file_extension": ".py",
   "mimetype": "text/x-python",
   "name": "python",
   "nbconvert_exporter": "python",
   "pygments_lexer": "ipython3",
   "version": "3.7.4"
  },
  "toc": {
   "base_numbering": 1,
   "nav_menu": {},
   "number_sections": true,
   "sideBar": true,
   "skip_h1_title": false,
   "title_cell": "Table of Contents",
   "title_sidebar": "Contents",
   "toc_cell": false,
   "toc_position": {},
   "toc_section_display": true,
   "toc_window_display": false
  }
 },
 "nbformat": 4,
 "nbformat_minor": 2
}
